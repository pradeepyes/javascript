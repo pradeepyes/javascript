{
  "nbformat": 4,
  "nbformat_minor": 0,
  "metadata": {
    "colab": {
      "provenance": [],
      "mount_file_id": "1RzT7QFeZynsSN0UBkrZ2TC6J8Ocayq3Y",
      "authorship_tag": "ABX9TyNPBemkZeqOAzdE1wUjjz4i",
      "include_colab_link": true
    },
    "kernelspec": {
      "name": "python3",
      "display_name": "Python 3"
    },
    "language_info": {
      "name": "python"
    }
  },
  "cells": [
    {
      "cell_type": "markdown",
      "metadata": {
        "id": "view-in-github",
        "colab_type": "text"
      },
      "source": [
        "<a href=\"https://colab.research.google.com/github/pradeepyes/javascript/blob/main/Weather_Forecast.ipynb\" target=\"_parent\"><img src=\"https://colab.research.google.com/assets/colab-badge.svg\" alt=\"Open In Colab\"/></a>"
      ]
    },
    {
      "cell_type": "code",
      "execution_count": null,
      "metadata": {
        "id": "xDHOuLKf5c3E"
      },
      "outputs": [],
      "source": []
    },
    {
      "cell_type": "markdown",
      "source": [
        "Section 1: Import Libraries"
      ],
      "metadata": {
        "id": "cKdDICW95lTu"
      }
    },
    {
      "cell_type": "code",
      "source": [
        "import requests # This library helps us to fetch data from API\n",
        "import pandas as pd #for handling and analysing data\n",
        "import numpy as np #for numerical operations\n",
        "from sklearn.model_selection import train_test_split #to split data into training and testing sets\n",
        "from sklearn.preprocessing import LabelEncoder #to convert categorical data into numerical values\n",
        "from sklearn.ensemble import RandomForestClassifier, RandomForestRegressor #models for classification and regression tasks\n",
        "from sklearn.metrics import mean_squared_error #to measure the accuracy of our predictions\n",
        "from datetime import datetime, timedelta #to handle date and time\n",
        "import pytz\n"
      ],
      "metadata": {
        "id": "KHMaT0BW57Vp"
      },
      "execution_count": null,
      "outputs": []
    },
    {
      "cell_type": "code",
      "source": [
        "API_KEY ='2d5dcce4ccb351dce73c363f965badc6'\n",
        "BASE_URL ='https://api.openweathermap.org/data/2.5/' #base url for making API request\n"
      ],
      "metadata": {
        "id": "--DGPg3o7BQ9"
      },
      "execution_count": null,
      "outputs": []
    },
    {
      "cell_type": "markdown",
      "source": [
        "Fetch current weather Data"
      ],
      "metadata": {
        "id": "xBmvepqy7nC-"
      }
    },
    {
      "cell_type": "code",
      "source": [
        "def get_current_weather(city):\n",
        "    url = f\"{BASE_URL}weather?q={city}&appid={API_KEY}&units=metric\"  # construct the API request URL\n",
        "    response = requests.get(url)  # send the GET request to API\n",
        "    data = response.json()\n",
        "    return {\n",
        "        'city': data['name'],\n",
        "        'current_temp': round(data['main']['temp']),\n",
        "        'feels_like': round(data['main']['feels_like']),\n",
        "        'temp_min': round(data['main']['temp_min']),\n",
        "        'temp_max': round(data['main']['temp_max']),\n",
        "        'humidity': round(data['main']['humidity']),\n",
        "        'description': data['weather'][0]['description'],\n",
        "        'country': data['sys']['country'],\n",
        "        'wind_gust_dir': data['wind']['deg'],\n",
        "        'pressure': data['main']['pressure'],\n",
        "        'wind_Gust_speed': data['wind']['speed'],\n",
        "    }\n"
      ],
      "metadata": {
        "id": "-VxfAu9J7quw"
      },
      "execution_count": null,
      "outputs": []
    },
    {
      "cell_type": "markdown",
      "source": [
        "Read Historical Data"
      ],
      "metadata": {
        "id": "kOnOJHsb9Q_T"
      }
    },
    {
      "cell_type": "code",
      "source": [
        "def read_historical_data(filename):\n",
        "    df = pd.read_csv(filename)  # load csv file into DataFrame\n",
        "    df = df.dropna()  # remove rows with missing values\n",
        "    df = df.drop_duplicates()\n",
        "    return df\n"
      ],
      "metadata": {
        "id": "q1YJIewL9UrA"
      },
      "execution_count": null,
      "outputs": []
    },
    {
      "cell_type": "markdown",
      "source": [
        "Prepare Data for training\n"
      ],
      "metadata": {
        "id": "MPY2pRDn_UgX"
      }
    },
    {
      "cell_type": "code",
      "source": [
        "def prepare_data(data):\n",
        "  le = LabelEncoder() #create a LabelEncoder instance\n",
        "  data['WindGustDir'] = le.fit_transform(data['WindGustDir'])\n",
        "  data['RainTomorrow'] = le.fit_transform(data['RainTomorrow'])\n",
        "\n",
        "  #define the feature variable and target variables\n",
        "  X = data[['MinTemp', 'MaxTemp', 'WindGustDir', 'WindGustSpeed', 'Humidity', 'Pressure', 'Temp']] #feature variables\n",
        "  y = data['RainTomorrow'] #target variable\n",
        "\n",
        "  return X, y, le #return feture variable, target variable and the label encoder"
      ],
      "metadata": {
        "id": "ioWYyiOc_iBB"
      },
      "execution_count": null,
      "outputs": []
    },
    {
      "cell_type": "markdown",
      "source": [
        "Train Rain Pridiction Model"
      ],
      "metadata": {
        "id": "wUp2DZX-B2yW"
      }
    },
    {
      "cell_type": "code",
      "source": [
        "def train_rain_model(X, y):\n",
        "  X_train, X_test, y_train, y_test = train_test_split(X, y, test_size=0.2, random_state=42)\n",
        "  model = RandomForestClassifier(n_estimators=100, random_state=42)\n",
        "  model.fit(X_train, y_train) #train the model\n",
        "  y_pred = model.predict(X_test) #to make predictions on test set\n",
        "  print(\"Mean Squared Error for Rain Model\")\n",
        "  print(mean_squared_error(y_test, y_pred))\n",
        "  return model"
      ],
      "metadata": {
        "id": "lb3TdV5SB8uS"
      },
      "execution_count": null,
      "outputs": []
    },
    {
      "cell_type": "markdown",
      "source": [
        "Preapre regression data"
      ],
      "metadata": {
        "id": "Fxzd1Y8iCWmi"
      }
    },
    {
      "cell_type": "code",
      "source": [
        "def prepare_regression_data(data, feature):\n",
        "  X, y = [], [] #initialize list for feature and target values\n",
        "\n",
        "  for i in range(len(data) - 1):\n",
        "    X.append(data[feature].iloc[i])\n",
        "\n",
        "    y.append(data[feature].iloc[i+1])\n",
        "\n",
        "  X = np.array(X).reshape(-1, 1)\n",
        "  y = np.array(y)\n",
        "\n",
        "  return X, y"
      ],
      "metadata": {
        "id": "Uj3UWXKVCbpi"
      },
      "execution_count": null,
      "outputs": []
    },
    {
      "cell_type": "markdown",
      "source": [
        "Train Regression model"
      ],
      "metadata": {
        "id": "hURYirmBDAFo"
      }
    },
    {
      "cell_type": "code",
      "source": [
        "def train_regression_model(X, y):\n",
        "  model = RandomForestRegressor(n_estimators=100, random_state=42)\n",
        "  model.fit(X, y)\n",
        "  return model"
      ],
      "metadata": {
        "id": "GmWBTIYNDH_9"
      },
      "execution_count": null,
      "outputs": []
    },
    {
      "cell_type": "markdown",
      "source": [
        "Predict future"
      ],
      "metadata": {
        "id": "dbwESov8Dh2b"
      }
    },
    {
      "cell_type": "code",
      "source": [
        "def predict_future(model, current_value):\n",
        "  predictions = [current_value]\n",
        "  for i in range(5):\n",
        "    next_value = model.predict(np.array([[predictions[-1]]]))\n",
        "    predictions.append(next_value[0])\n",
        "  return predictions[1:]"
      ],
      "metadata": {
        "id": "btwzbq36DlTW"
      },
      "execution_count": null,
      "outputs": []
    },
    {
      "cell_type": "markdown",
      "source": [
        "Weather Analysis Function"
      ],
      "metadata": {
        "id": "SKfXwwSkDpRx"
      }
    },
    {
      "cell_type": "code",
      "source": [
        "def weather_view():\n",
        "    city = input('Enter any city name: ')\n",
        "\n",
        "    # Fetch current weather\n",
        "    current_weather = get_current_weather(city)\n",
        "\n",
        "    # Debug: Print to check if current_weather is fetched correctly\n",
        "    print(\"Debug: current_weather =\", current_weather)\n",
        "\n",
        "    if not current_weather:\n",
        "        print(\"Error: Unable to fetch weather data.\")\n",
        "        return  # Exit if no data is retrieved\n",
        "\n",
        "    # Proceed with the rest of the function\n",
        "    historical_data = read_historical_data('/content/drive/MyDrive/weather.csv')\n",
        "\n",
        "    # Prepare and train the rain prediction model\n",
        "    X, y, le = prepare_data(historical_data)\n",
        "    rain_model = train_rain_model(X, y)\n",
        "\n",
        "    # Map wind direction\n",
        "    wind_deg = current_weather.get('wind_gust_dir', 0) % 360\n",
        "\n",
        "    compass_points = [\n",
        "        (\"N\", 0, 11.25), (\"NNE\", 11.25, 33.75), (\"NE\", 33.75, 56.25),\n",
        "        (\"ENE\", 56.25, 78.75), (\"E\", 78.75, 101.25), (\"ESE\", 101.25, 123.75),\n",
        "        (\"SE\", 123.75, 146.25), (\"SSE\", 146.25, 168.75), (\"S\", 168.75, 191.25),\n",
        "        (\"SSW\", 191.25, 213.75), (\"SW\", 213.75, 236.25), (\"WSW\", 236.25, 258.75),\n",
        "        (\"W\", 258.75, 281.25), (\"WNW\", 281.25, 303.75), (\"NW\", 303.75, 326.25),\n",
        "        (\"NNW\", 326.25, 348.75)\n",
        "    ]\n",
        "\n",
        "    compass_direction = next(\n",
        "        (point for point, start, end in compass_points if start <= wind_deg < end), \"N\"\n",
        "    )\n",
        "\n",
        "    compass_direction_encoded = (\n",
        "        le.transform([compass_direction])[0] if compass_direction in le.classes_ else -1\n",
        "    )\n",
        "\n",
        "    # Construct current data dictionary\n",
        "    current_data = {\n",
        "        'MinTemp': current_weather.get('temp_min', 0),\n",
        "        'MaxTemp': current_weather.get('temp_max', 0),\n",
        "        'WindGustDir': compass_direction_encoded,\n",
        "        'WindGustSpeed': current_weather.get('Wind_Gust_Speed', 0),\n",
        "        'Humidity': current_weather.get('humidity', 0),\n",
        "        'Pressure': current_weather.get('pressure', 0),\n",
        "        'Temp': current_weather.get('current_temp', 0),\n",
        "    }\n",
        "\n",
        "    current_df = pd.DataFrame([current_data])\n",
        "\n",
        "    # Rain prediction\n",
        "    rain_prediction = rain_model.predict(current_df)[0]\n",
        "\n",
        "    # Prepare regression models\n",
        "    X_temp, y_temp = prepare_regression_data(historical_data, 'Temp')\n",
        "    X_hum, y_hum = prepare_regression_data(historical_data, 'Humidity')\n",
        "\n",
        "    temp_model = train_regression_model(X_temp, y_temp)\n",
        "    hum_model = train_regression_model(X_hum, y_hum)\n",
        "\n",
        "    # Predict future values\n",
        "    future_temp = predict_future(temp_model, current_weather.get('temp_min', 0))\n",
        "    future_humidity = predict_future(hum_model, current_weather.get('humidity', 0))\n",
        "\n",
        "    # Time setup for predictions\n",
        "    timezone = pytz.timezone('Asia/Kolkata')\n",
        "    now = datetime.now(timezone)\n",
        "    next_hour = now + timedelta(hours=1)\n",
        "    next_hour = next_hour.replace(minute=0, second=0, microsecond=0)\n",
        "\n",
        "    future_times = [(next_hour + timedelta(hours=i)).strftime(\"%H:00\") for i in range(5)]\n",
        "\n",
        "    # Display results\n",
        "    print(f\"City: {city}, {current_weather.get('country', 'Unknown')}\")\n",
        "    print(f\"Current Temperature: {current_weather.get('current_temp', 0)}\")\n",
        "    print(f\"Feels Like: {current_weather.get('feels_like', 0)}\")\n",
        "    print(f\"Minimum Temperature: {current_weather.get('temp_min', 0)}°C\")\n",
        "    print(f\"Maximum Temperature: {current_weather.get('temp_max', 0)}°C\")\n",
        "    print(f\"Humidity: {current_weather.get('humidity', 0)}%\")\n",
        "    print(f\"Weather Prediction: {current_weather.get('description', 'Unknown')}\")\n",
        "    print(f\"Rain Prediction: {'Yes' if rain_prediction else 'No'}\")\n",
        "\n",
        "    print(\"\\nFuture Temperature Predictions:\")\n",
        "    for time, temp in zip(future_times, future_temp):\n",
        "        print(f\"{time}: {round(temp, 1)}°C\")\n",
        "\n",
        "    print(\"\\nFuture Humidity Predictions:\")\n",
        "    for time, humidity in zip(future_times, future_humidity):\n",
        "        print(f\"{time}: {round(humidity, 1)}%\")\n",
        "\n",
        "\n",
        "# Run the function\n",
        "weather_view()\n"
      ],
      "metadata": {
        "colab": {
          "base_uri": "https://localhost:8080/"
        },
        "id": "KMmK-6zEDxLs",
        "outputId": "bb001e35-11b1-4495-eaf3-62f348fca824"
      },
      "execution_count": null,
      "outputs": [
        {
          "output_type": "stream",
          "name": "stdout",
          "text": [
            "Enter any city name: Davanagere\n",
            "Debug: current_weather = {'city': 'Davanagere', 'current_temp': 37, 'feels_like': 34, 'temp_min': 37, 'temp_max': 37, 'humidity': 14, 'description': 'broken clouds', 'country': 'IN', 'wind_gust_dir': 77, 'pressure': 1006, 'wind_Gust_speed': 4.09}\n",
            "Mean Squared Error for Rain Model\n",
            "0.1506849315068493\n",
            "City: Davanagere, IN\n",
            "Current Temperature: 37\n",
            "Feels Like: 34\n",
            "Minimum Temperature: 37°C\n",
            "Maximum Temperature: 37°C\n",
            "Humidity: 14%\n",
            "Weather Prediction: broken clouds\n",
            "Rain Prediction: No\n",
            "\n",
            "Future Temperature Predictions:\n",
            "17:00: 33.1°C\n",
            "18:00: 25.1°C\n",
            "19:00: 20.1°C\n",
            "20:00: 16.6°C\n",
            "21:00: 14.4°C\n",
            "\n",
            "Future Humidity Predictions:\n",
            "17:00: 44.8%\n",
            "18:00: 46.2%\n",
            "19:00: 48.2%\n",
            "20:00: 53.7%\n",
            "21:00: 58.1%\n"
          ]
        }
      ]
    }
  ]
}